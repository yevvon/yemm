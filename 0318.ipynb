{
  "nbformat": 4,
  "nbformat_minor": 0,
  "metadata": {
    "colab": {
      "provenance": [],
      "authorship_tag": "ABX9TyM20xwr1oOwrlgpbPA2Ywo0",
      "include_colab_link": true
    },
    "kernelspec": {
      "name": "python3",
      "display_name": "Python 3"
    },
    "language_info": {
      "name": "python"
    }
  },
  "cells": [
    {
      "cell_type": "markdown",
      "metadata": {
        "id": "view-in-github",
        "colab_type": "text"
      },
      "source": [
        "<a href=\"https://colab.research.google.com/github/yevvon/yemm/blob/main/0318.ipynb\" target=\"_parent\"><img src=\"https://colab.research.google.com/assets/colab-badge.svg\" alt=\"Open In Colab\"/></a>"
      ]
    },
    {
      "cell_type": "code",
      "source": [
        "import requests\n",
        "from bs4 import BeautifulSoup\n",
        "\n",
        "url = 'http://apis.data.go.kr/1480523/MetalMeasuringResultService/MetalService'\n",
        "params ={'serviceKey' : 'CyfiNQ9+n+ByaG2g0r2XpUbjNkzErg3A8KNIVrOXPKz4VTkfRpR2uNw7Pm1zArKvOSDSHp9/0N3hDg8isI4fEg==', 'pageNo' : '1', 'numOfRows' : '10', 'resultType' : 'XML', 'date' : '20240318', 'stationcode' : '1', 'itemcode' : '90303', 'timecode' : 'RH02' }\n",
        "\n",
        "response = requests.get(url, params=params)\n",
        "print(response.content.decode('utf'))"
      ],
      "metadata": {
        "colab": {
          "base_uri": "https://localhost:8080/"
        },
        "id": "gBtYdIRo8gi4",
        "outputId": "d09bc4ac-3b0f-40ab-d95c-06f26634d303"
      },
      "execution_count": null,
      "outputs": [
        {
          "output_type": "stream",
          "name": "stdout",
          "text": [
            "<?xml version=\"1.0\" encoding=\"UTF-8\"?>\n",
            "<response>\n",
            "  <header>\n",
            "    <resultCode>00</resultCode>\n",
            "    <resultMsg>NORMAL SERVICE</resultMsg>\n",
            "  </header>\n",
            "  <body>\n",
            "    <items>\n",
            "  <item>\n",
            "    <sdate>20240318000000</sdate>\n",
            "    <stationcode>1</stationcode>\n",
            "    <itemcode>90303</itemcode>\n",
            "    <timecode>RH02</timecode>\n",
            "    <value>13.9028</value>\n",
            "  </item>\n",
            "  <item>\n",
            "    <sdate>20240318020000</sdate>\n",
            "    <stationcode>1</stationcode>\n",
            "    <itemcode>90303</itemcode>\n",
            "    <timecode>RH02</timecode>\n",
            "    <value>9.7402</value>\n",
            "  </item>\n",
            "  <item>\n",
            "    <sdate>20240318040000</sdate>\n",
            "    <stationcode>1</stationcode>\n",
            "    <itemcode>90303</itemcode>\n",
            "    <timecode>RH02</timecode>\n",
            "    <value>9.8133</value>\n",
            "  </item>\n",
            "  <item>\n",
            "    <sdate>20240318060000</sdate>\n",
            "    <stationcode>1</stationcode>\n",
            "    <itemcode>90303</itemcode>\n",
            "    <timecode>RH02</timecode>\n",
            "    <value>10.3027</value>\n",
            "  </item>\n",
            "  <item>\n",
            "    <sdate>20240318080000</sdate>\n",
            "    <stationcode>1</stationcode>\n",
            "    <itemcode>90303</itemcode>\n",
            "    <timecode>RH02</timecode>\n",
            "    <value>12.6226</value>\n",
            "  </item>\n",
            "  <item>\n",
            "    <sdate>20240318100000</sdate>\n",
            "    <stationcode>1</stationcode>\n",
            "    <itemcode>90303</itemcode>\n",
            "    <timecode>RH02</timecode>\n",
            "    <value>12.3351</value>\n",
            "  </item>\n",
            "  <item>\n",
            "    <sdate>20240318120000</sdate>\n",
            "    <stationcode>1</stationcode>\n",
            "    <itemcode>90303</itemcode>\n",
            "    <timecode>RH02</timecode>\n",
            "    <value>11.758</value>\n",
            "  </item>\n",
            "</items>\n",
            "    <numOfRows>10</numOfRows>\n",
            "    <pageNo>1</pageNo>\n",
            "    <totalCount>7</totalCount>\n",
            "  </body>\n",
            "</response>\n",
            "\n"
          ]
        }
      ]
    },
    {
      "cell_type": "code",
      "source": [
        "soup = BeautifulSoup(response.content.decode('utf'), features=\"xml\")"
      ],
      "metadata": {
        "id": "A3S-tZ50_l3c"
      },
      "execution_count": null,
      "outputs": []
    },
    {
      "cell_type": "code",
      "source": [
        "soup.find_all('value')"
      ],
      "metadata": {
        "colab": {
          "base_uri": "https://localhost:8080/"
        },
        "id": "aX413c8-_nLp",
        "outputId": "32867779-9af3-448f-dc00-701a843e0992"
      },
      "execution_count": null,
      "outputs": [
        {
          "output_type": "execute_result",
          "data": {
            "text/plain": [
              "[<value>13.9028</value>,\n",
              " <value>9.7402</value>,\n",
              " <value>9.8133</value>,\n",
              " <value>10.3027</value>,\n",
              " <value>12.6226</value>,\n",
              " <value>12.3351</value>,\n",
              " <value>11.758</value>]"
            ]
          },
          "metadata": {},
          "execution_count": 15
        }
      ]
    }
  ]
}