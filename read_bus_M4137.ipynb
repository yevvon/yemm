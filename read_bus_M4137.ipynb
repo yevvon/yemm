{
  "nbformat": 4,
  "nbformat_minor": 0,
  "metadata": {
    "colab": {
      "provenance": [],
      "authorship_tag": "ABX9TyN2Ac7o75CR3I7ktpaYZUPj",
      "include_colab_link": true
    },
    "kernelspec": {
      "name": "python3",
      "display_name": "Python 3"
    },
    "language_info": {
      "name": "python"
    }
  },
  "cells": [
    {
      "cell_type": "markdown",
      "metadata": {
        "id": "view-in-github",
        "colab_type": "text"
      },
      "source": [
        "<a href=\"https://colab.research.google.com/github/yevvon/yemm/blob/main/read_bus_M4137.ipynb\" target=\"_parent\"><img src=\"https://colab.research.google.com/assets/colab-badge.svg\" alt=\"Open In Colab\"/></a>"
      ]
    },
    {
      "cell_type": "code",
      "execution_count": 2,
      "metadata": {
        "colab": {
          "base_uri": "https://localhost:8080/"
        },
        "id": "3WKh6V-lzgPi",
        "outputId": "eb1a918f-2d13-417d-9c31-52555d807bb7"
      },
      "outputs": [
        {
          "output_type": "stream",
          "name": "stdout",
          "text": [
            "<?xml version=\"1.0\" encoding=\"UTF-8\" standalone=\"yes\"?><response><comMsgHeader/><msgHeader><queryTime>2024-03-15 21:43:37.250</queryTime><resultCode>0</resultCode><resultMessage>정상적으로 처리되었습니다.</resultMessage></msgHeader><msgBody><busLocationList><endBus>0</endBus><lowPlate>0</lowPlate><plateNo>경기76아4810</plateNo><plateType>3</plateType><remainSeatCnt>39</remainSeatCnt><routeId>234001622</routeId><stationId>277103390</stationId><stationSeq>21</stationSeq></busLocationList><busLocationList><endBus>0</endBus><lowPlate>0</lowPlate><plateNo>경기77바1040</plateNo><plateType>3</plateType><remainSeatCnt>6</remainSeatCnt><routeId>234001622</routeId><stationId>233003125</stationId><stationSeq>53</stationSeq></busLocationList><busLocationList><endBus>0</endBus><lowPlate>0</lowPlate><plateNo>경기77바1048</plateNo><plateType>3</plateType><remainSeatCnt>0</remainSeatCnt><routeId>234001622</routeId><stationId>277104181</stationId><stationSeq>38</stationSeq></busLocationList><busLocationList><endBus>0</endBus><lowPlate>0</lowPlate><plateNo>경기76아3960</plateNo><plateType>3</plateType><remainSeatCnt>17</remainSeatCnt><routeId>234001622</routeId><stationId>233003125</stationId><stationSeq>53</stationSeq></busLocationList><busLocationList><endBus>0</endBus><lowPlate>0</lowPlate><plateNo>경기77바1049</plateNo><plateType>3</plateType><remainSeatCnt>40</remainSeatCnt><routeId>234001622</routeId><stationId>277103443</stationId><stationSeq>14</stationSeq></busLocationList><busLocationList><endBus>0</endBus><lowPlate>0</lowPlate><plateNo>경기76아4813</plateNo><plateType>3</plateType><remainSeatCnt>18</remainSeatCnt><routeId>234001622</routeId><stationId>277103362</stationId><stationSeq>51</stationSeq></busLocationList><busLocationList><endBus>0</endBus><lowPlate>0</lowPlate><plateNo>경기76아4811</plateNo><plateType>3</plateType><remainSeatCnt>32</remainSeatCnt><routeId>234001622</routeId><stationId>233000129</stationId><stationSeq>7</stationSeq></busLocationList></msgBody></response>\n"
          ]
        }
      ],
      "source": [
        "import requests\n",
        "url='http://openapi.gbis.go.kr/ws/rest/buslocationservice?serviceKey=1234567890&routeId=234001622'\n",
        "r = requests.get(url)\n",
        "print(r.text)"
      ]
    },
    {
      "cell_type": "code",
      "source": [
        "from bs4 import BeautifulSoup\n",
        "\n",
        "soup = BeautifulSoup(r.text, features=\"xml\")"
      ],
      "metadata": {
        "id": "-lRM3y8N1mu0"
      },
      "execution_count": 3,
      "outputs": []
    },
    {
      "cell_type": "code",
      "source": [
        "soup.find_all('stationId')"
      ],
      "metadata": {
        "colab": {
          "base_uri": "https://localhost:8080/"
        },
        "id": "c-tiSR0i1n5j",
        "outputId": "276b6996-ed08-473f-ee26-385d8b8f25cf"
      },
      "execution_count": 4,
      "outputs": [
        {
          "output_type": "execute_result",
          "data": {
            "text/plain": [
              "[<stationId>277103390</stationId>,\n",
              " <stationId>233003125</stationId>,\n",
              " <stationId>277104181</stationId>,\n",
              " <stationId>233003125</stationId>,\n",
              " <stationId>277103443</stationId>,\n",
              " <stationId>277103362</stationId>,\n",
              " <stationId>233000129</stationId>]"
            ]
          },
          "metadata": {},
          "execution_count": 4
        }
      ]
    },
    {
      "cell_type": "code",
      "source": [
        "print('학번=', 2370083, '이름=', '최예원')"
      ],
      "metadata": {
        "colab": {
          "base_uri": "https://localhost:8080/"
        },
        "id": "mhTxuPH01n7X",
        "outputId": "c702ec32-b499-4221-a23a-422db55ec210"
      },
      "execution_count": 5,
      "outputs": [
        {
          "output_type": "stream",
          "name": "stdout",
          "text": [
            "학번= 2370083 이름= 최예원\n"
          ]
        }
      ]
    }
  ]
}